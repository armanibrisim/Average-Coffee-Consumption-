{
 "cells": [
  {
   "cell_type": "code",
   "execution_count": null,
   "metadata": {},
   "outputs": [],
   "source": [
    "import csv\n",
    "from icalendar import Calendar\n",
    "from datetime import datetime\n",
    "\n",
    "\n",
    "ics_file = '/Users/armanibrisim/Desktop/proje/arman.ibrisim@sabanciuniv.edu.ics'\n",
    "csv_file = '/Users/armanibrisim/Desktop/proje/calendar_export.csv'\n",
    "\n",
    "\n",
    "with open(ics_file, 'rb') as f:\n",
    "    cal = Calendar.from_ical(f.read())\n",
    "\n",
    "\n",
    "with open(csv_file, 'w', newline='') as csvfile:\n",
    "    fieldnames = ['Summary', 'Start', 'End', 'Location', 'Description']\n",
    "    writer = csv.DictWriter(csvfile, fieldnames=fieldnames)\n",
    "    \n",
    "    writer.writeheader()\n",
    "    \n",
    "    for component in cal.walk():\n",
    "        \n",
    "        if component.name == \"VEVENT\":\n",
    "            summary = component.get('SUMMARY', 'No Title')\n",
    "            start_time = component.get('DTSTART').dt\n",
    "            end_time = component.get('DTEND').dt\n",
    "            location = component.get('LOCATION', 'No Location')\n",
    "            description = component.get('DESCRIPTION', 'No Description')\n",
    "            start_time_str = start_time.strftime('%Y-%m-%d %H:%M:%S') if isinstance(start_time, datetime) else start_time\n",
    "            end_time_str = end_time.strftime('%Y-%m-%d %H:%M:%S') if isinstance(end_time, datetime) else end_time\n",
    "            writer.writerow({\n",
    "                'Summary': summary,\n",
    "                'Start': start_time_str,\n",
    "                'End': end_time_str,\n",
    "                'Location': location,\n",
    "                'Description': description\n",
    "            })\n",
    "\n",
    "print(f\"Conversion complete! CSV saved as: {csv_file}\")\n"
   ]
  }
 ],
 "metadata": {
  "language_info": {
   "name": "python"
  }
 },
 "nbformat": 4,
 "nbformat_minor": 2
}
