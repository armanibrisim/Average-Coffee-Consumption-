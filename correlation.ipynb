{
 "cells": [
  {
   "cell_type": "markdown",
   "metadata": {},
   "source": [
    "#CORRELATION"
   ]
  },
  {
   "cell_type": "code",
   "execution_count": 2,
   "metadata": {},
   "outputs": [
    {
     "name": "stderr",
     "output_type": "stream",
     "text": [
      "/var/folders/_c/jm66wb4d7gl570d8vx4_wpx00000gn/T/ipykernel_8827/1005887028.py:8: DtypeWarning: Columns (4) have mixed types. Specify dtype option on import or set low_memory=False.\n",
      "  steps_df = pd.read_csv(steps_path)\n"
     ]
    },
    {
     "name": "stdout",
     "output_type": "stream",
     "text": [
      "Correlation between daily step size and exam dates: 0.10747559818501606\n"
     ]
    }
   ],
   "source": [
    "import pandas as pd\n",
    "\n",
    "\n",
    "calendar_path = '/Users/armanibrisim/Desktop/proje/calendar_export.csv'\n",
    "steps_path = '/Users/armanibrisim/Desktop/proje/apple_health_data.csv'\n",
    "\n",
    "calendar_df = pd.read_csv(calendar_path)\n",
    "steps_df = pd.read_csv(steps_path)\n",
    "\n",
    "calendar_df['Start'] = pd.to_datetime(calendar_df['Start'])\n",
    "calendar_df['Date'] = calendar_df['Start'].dt.date\n",
    "exam_dates = set(calendar_df['Date'])\n",
    "\n",
    "steps_df = steps_df[steps_df['type'] == 'HKQuantityTypeIdentifierStepCount']\n",
    "steps_df['startDate'] = pd.to_datetime(steps_df['startDate'])\n",
    "steps_df['Date'] = steps_df['startDate'].dt.date\n",
    "steps_df['Steps'] = steps_df['value'].astype(float)\n",
    "\n",
    "daily_steps = steps_df.groupby('Date')['Steps'].sum().reset_index()\n",
    "daily_steps['Is_Exam_Date'] = daily_steps['Date'].isin(exam_dates)\n",
    "\n",
    "daily_steps['Is_Exam_Date_Numeric'] = daily_steps['Is_Exam_Date'].astype(int)\n",
    "correlation = daily_steps['Steps'].corr(daily_steps['Is_Exam_Date_Numeric'])\n",
    "\n",
    "print(f\"Correlation between daily step size and exam dates: {correlation}\")\n"
   ]
  }
 ],
 "metadata": {
  "kernelspec": {
   "display_name": "Python 3",
   "language": "python",
   "name": "python3"
  },
  "language_info": {
   "codemirror_mode": {
    "name": "ipython",
    "version": 3
   },
   "file_extension": ".py",
   "mimetype": "text/x-python",
   "name": "python",
   "nbconvert_exporter": "python",
   "pygments_lexer": "ipython3",
   "version": "3.9.6"
  }
 },
 "nbformat": 4,
 "nbformat_minor": 2
}
