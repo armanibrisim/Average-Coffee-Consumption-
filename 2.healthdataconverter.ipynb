{
 "cells": [
  {
   "cell_type": "code",
   "execution_count": 2,
   "metadata": {},
   "outputs": [
    {
     "name": "stdout",
     "output_type": "stream",
     "text": [
      "Data successfully converted to apple_health_data.csv\n"
     ]
    }
   ],
   "source": [
    "import xml.etree.ElementTree as ET\n",
    "import csv\n",
    "\n",
    "\n",
    "def parse_apple_health_xml(xml_file):\n",
    "    tree = ET.parse(xml_file)\n",
    "    root = tree.getroot()\n",
    "    \n",
    "   \n",
    "    records = []\n",
    "    \n",
    "   \n",
    "    for record in root.findall('.//Record'):\n",
    "       \n",
    "        record_data = {\n",
    "            'type': record.get('type'),  \n",
    "            'sourceName': record.get('sourceName'),  \n",
    "            'sourceVersion': record.get('sourceVersion'),  \n",
    "            'unit': record.get('unit'),  \n",
    "            'value': record.get('value'),  \n",
    "            'startDate': record.get('startDate'),  \n",
    "            'endDate': record.get('endDate'),  \n",
    "        }\n",
    "        \n",
    "        \n",
    "        records.append(record_data)\n",
    "    \n",
    "    return records\n",
    "\n",
    "def write_to_csv(records, csv_file):\n",
    "    \n",
    "    with open(csv_file, mode='w', newline='', encoding='utf-8') as file:\n",
    "        writer = csv.DictWriter(file, fieldnames=records[0].keys())\n",
    "        \n",
    "        writer.writeheader()\n",
    "        \n",
    "        \n",
    "        writer.writerows(records)\n",
    "\n",
    "\n",
    "def convert_xml_to_csv(xml_file, csv_file):\n",
    "    records = parse_apple_health_xml(xml_file)\n",
    "    \n",
    "   \n",
    "    if records:\n",
    "        write_to_csv(records, csv_file)\n",
    "        print(f\"Data successfully converted to {csv_file}\")\n",
    "    else:\n",
    "        print(\"No records found in the XML file.\")\n",
    "\n",
    "\n",
    "xml_file = 'export.xml'  \n",
    "csv_file = 'apple_health_data.csv'   \n",
    "\n",
    "convert_xml_to_csv(xml_file, csv_file)\n"
   ]
  }
 ],
 "metadata": {
  "kernelspec": {
   "display_name": "Python 3",
   "language": "python",
   "name": "python3"
  },
  "language_info": {
   "codemirror_mode": {
    "name": "ipython",
    "version": 3
   },
   "file_extension": ".py",
   "mimetype": "text/x-python",
   "name": "python",
   "nbconvert_exporter": "python",
   "pygments_lexer": "ipython3",
   "version": "3.9.6"
  }
 },
 "nbformat": 4,
 "nbformat_minor": 2
}
